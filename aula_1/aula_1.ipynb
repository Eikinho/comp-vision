{
 "cells": [
  {
   "cell_type": "code",
   "execution_count": 64,
   "id": "f54f093a",
   "metadata": {},
   "outputs": [
    {
     "name": "stdout",
     "output_type": "stream",
     "text": [
      "2.8.0\n",
      "False\n"
     ]
    }
   ],
   "source": [
    "import tensorflow as tf\n",
    "import pandas as pd\n",
    "BATCH_SIZE = 16\n",
    "print(tf.__version__)\n",
    "print(tf.test.is_gpu_available())"
   ]
  },
  {
   "cell_type": "code",
   "execution_count": 6,
   "id": "3770c010",
   "metadata": {},
   "outputs": [
    {
     "data": {
      "text/html": [
       "<div>\n",
       "<style scoped>\n",
       "    .dataframe tbody tr th:only-of-type {\n",
       "        vertical-align: middle;\n",
       "    }\n",
       "\n",
       "    .dataframe tbody tr th {\n",
       "        vertical-align: top;\n",
       "    }\n",
       "\n",
       "    .dataframe thead th {\n",
       "        text-align: right;\n",
       "    }\n",
       "</style>\n",
       "<table border=\"1\" class=\"dataframe\">\n",
       "  <thead>\n",
       "    <tr style=\"text-align: right;\">\n",
       "      <th></th>\n",
       "      <th>age</th>\n",
       "      <th>sex</th>\n",
       "      <th>cp</th>\n",
       "      <th>trestbps</th>\n",
       "      <th>chol</th>\n",
       "      <th>fbs</th>\n",
       "      <th>restecg</th>\n",
       "      <th>thalach</th>\n",
       "      <th>exang</th>\n",
       "      <th>oldpeak</th>\n",
       "      <th>slope</th>\n",
       "      <th>ca</th>\n",
       "      <th>thal</th>\n",
       "      <th>target</th>\n",
       "    </tr>\n",
       "  </thead>\n",
       "  <tbody>\n",
       "    <tr>\n",
       "      <th>0</th>\n",
       "      <td>52</td>\n",
       "      <td>1</td>\n",
       "      <td>0</td>\n",
       "      <td>125</td>\n",
       "      <td>212</td>\n",
       "      <td>0</td>\n",
       "      <td>1</td>\n",
       "      <td>168</td>\n",
       "      <td>0</td>\n",
       "      <td>1.0</td>\n",
       "      <td>2</td>\n",
       "      <td>2</td>\n",
       "      <td>3</td>\n",
       "      <td>0</td>\n",
       "    </tr>\n",
       "    <tr>\n",
       "      <th>1</th>\n",
       "      <td>53</td>\n",
       "      <td>1</td>\n",
       "      <td>0</td>\n",
       "      <td>140</td>\n",
       "      <td>203</td>\n",
       "      <td>1</td>\n",
       "      <td>0</td>\n",
       "      <td>155</td>\n",
       "      <td>1</td>\n",
       "      <td>3.1</td>\n",
       "      <td>0</td>\n",
       "      <td>0</td>\n",
       "      <td>3</td>\n",
       "      <td>0</td>\n",
       "    </tr>\n",
       "    <tr>\n",
       "      <th>2</th>\n",
       "      <td>70</td>\n",
       "      <td>1</td>\n",
       "      <td>0</td>\n",
       "      <td>145</td>\n",
       "      <td>174</td>\n",
       "      <td>0</td>\n",
       "      <td>1</td>\n",
       "      <td>125</td>\n",
       "      <td>1</td>\n",
       "      <td>2.6</td>\n",
       "      <td>0</td>\n",
       "      <td>0</td>\n",
       "      <td>3</td>\n",
       "      <td>0</td>\n",
       "    </tr>\n",
       "    <tr>\n",
       "      <th>3</th>\n",
       "      <td>61</td>\n",
       "      <td>1</td>\n",
       "      <td>0</td>\n",
       "      <td>148</td>\n",
       "      <td>203</td>\n",
       "      <td>0</td>\n",
       "      <td>1</td>\n",
       "      <td>161</td>\n",
       "      <td>0</td>\n",
       "      <td>0.0</td>\n",
       "      <td>2</td>\n",
       "      <td>1</td>\n",
       "      <td>3</td>\n",
       "      <td>0</td>\n",
       "    </tr>\n",
       "    <tr>\n",
       "      <th>4</th>\n",
       "      <td>62</td>\n",
       "      <td>0</td>\n",
       "      <td>0</td>\n",
       "      <td>138</td>\n",
       "      <td>294</td>\n",
       "      <td>1</td>\n",
       "      <td>1</td>\n",
       "      <td>106</td>\n",
       "      <td>0</td>\n",
       "      <td>1.9</td>\n",
       "      <td>1</td>\n",
       "      <td>3</td>\n",
       "      <td>2</td>\n",
       "      <td>0</td>\n",
       "    </tr>\n",
       "  </tbody>\n",
       "</table>\n",
       "</div>"
      ],
      "text/plain": [
       "   age  sex  cp  trestbps  chol  fbs  restecg  thalach  exang  oldpeak  slope  \\\n",
       "0   52    1   0       125   212    0        1      168      0      1.0      2   \n",
       "1   53    1   0       140   203    1        0      155      1      3.1      0   \n",
       "2   70    1   0       145   174    0        1      125      1      2.6      0   \n",
       "3   61    1   0       148   203    0        1      161      0      0.0      2   \n",
       "4   62    0   0       138   294    1        1      106      0      1.9      1   \n",
       "\n",
       "   ca  thal  target  \n",
       "0   2     3       0  \n",
       "1   0     3       0  \n",
       "2   0     3       0  \n",
       "3   1     3       0  \n",
       "4   3     2       0  "
      ]
     },
     "execution_count": 6,
     "metadata": {},
     "output_type": "execute_result"
    }
   ],
   "source": [
    "data = pd.read_csv(\"heart.csv\")\n",
    "data.head()"
   ]
  },
  {
   "cell_type": "code",
   "execution_count": 7,
   "id": "ebbc422d",
   "metadata": {},
   "outputs": [
    {
     "data": {
      "text/html": [
       "<div>\n",
       "<style scoped>\n",
       "    .dataframe tbody tr th:only-of-type {\n",
       "        vertical-align: middle;\n",
       "    }\n",
       "\n",
       "    .dataframe tbody tr th {\n",
       "        vertical-align: top;\n",
       "    }\n",
       "\n",
       "    .dataframe thead th {\n",
       "        text-align: right;\n",
       "    }\n",
       "</style>\n",
       "<table border=\"1\" class=\"dataframe\">\n",
       "  <thead>\n",
       "    <tr style=\"text-align: right;\">\n",
       "      <th></th>\n",
       "      <th>age</th>\n",
       "      <th>sex</th>\n",
       "      <th>cp</th>\n",
       "      <th>trestbps</th>\n",
       "      <th>chol</th>\n",
       "      <th>fbs</th>\n",
       "      <th>restecg</th>\n",
       "      <th>thalach</th>\n",
       "      <th>exang</th>\n",
       "      <th>oldpeak</th>\n",
       "      <th>slope</th>\n",
       "      <th>ca</th>\n",
       "      <th>thal</th>\n",
       "      <th>target</th>\n",
       "    </tr>\n",
       "  </thead>\n",
       "  <tbody>\n",
       "    <tr>\n",
       "      <th>count</th>\n",
       "      <td>1025.000000</td>\n",
       "      <td>1025.000000</td>\n",
       "      <td>1025.000000</td>\n",
       "      <td>1025.000000</td>\n",
       "      <td>1025.00000</td>\n",
       "      <td>1025.000000</td>\n",
       "      <td>1025.000000</td>\n",
       "      <td>1025.000000</td>\n",
       "      <td>1025.000000</td>\n",
       "      <td>1025.000000</td>\n",
       "      <td>1025.000000</td>\n",
       "      <td>1025.000000</td>\n",
       "      <td>1025.000000</td>\n",
       "      <td>1025.000000</td>\n",
       "    </tr>\n",
       "    <tr>\n",
       "      <th>mean</th>\n",
       "      <td>54.434146</td>\n",
       "      <td>0.695610</td>\n",
       "      <td>0.942439</td>\n",
       "      <td>131.611707</td>\n",
       "      <td>246.00000</td>\n",
       "      <td>0.149268</td>\n",
       "      <td>0.529756</td>\n",
       "      <td>149.114146</td>\n",
       "      <td>0.336585</td>\n",
       "      <td>1.071512</td>\n",
       "      <td>1.385366</td>\n",
       "      <td>0.754146</td>\n",
       "      <td>2.323902</td>\n",
       "      <td>0.513171</td>\n",
       "    </tr>\n",
       "    <tr>\n",
       "      <th>std</th>\n",
       "      <td>9.072290</td>\n",
       "      <td>0.460373</td>\n",
       "      <td>1.029641</td>\n",
       "      <td>17.516718</td>\n",
       "      <td>51.59251</td>\n",
       "      <td>0.356527</td>\n",
       "      <td>0.527878</td>\n",
       "      <td>23.005724</td>\n",
       "      <td>0.472772</td>\n",
       "      <td>1.175053</td>\n",
       "      <td>0.617755</td>\n",
       "      <td>1.030798</td>\n",
       "      <td>0.620660</td>\n",
       "      <td>0.500070</td>\n",
       "    </tr>\n",
       "    <tr>\n",
       "      <th>min</th>\n",
       "      <td>29.000000</td>\n",
       "      <td>0.000000</td>\n",
       "      <td>0.000000</td>\n",
       "      <td>94.000000</td>\n",
       "      <td>126.00000</td>\n",
       "      <td>0.000000</td>\n",
       "      <td>0.000000</td>\n",
       "      <td>71.000000</td>\n",
       "      <td>0.000000</td>\n",
       "      <td>0.000000</td>\n",
       "      <td>0.000000</td>\n",
       "      <td>0.000000</td>\n",
       "      <td>0.000000</td>\n",
       "      <td>0.000000</td>\n",
       "    </tr>\n",
       "    <tr>\n",
       "      <th>25%</th>\n",
       "      <td>48.000000</td>\n",
       "      <td>0.000000</td>\n",
       "      <td>0.000000</td>\n",
       "      <td>120.000000</td>\n",
       "      <td>211.00000</td>\n",
       "      <td>0.000000</td>\n",
       "      <td>0.000000</td>\n",
       "      <td>132.000000</td>\n",
       "      <td>0.000000</td>\n",
       "      <td>0.000000</td>\n",
       "      <td>1.000000</td>\n",
       "      <td>0.000000</td>\n",
       "      <td>2.000000</td>\n",
       "      <td>0.000000</td>\n",
       "    </tr>\n",
       "    <tr>\n",
       "      <th>50%</th>\n",
       "      <td>56.000000</td>\n",
       "      <td>1.000000</td>\n",
       "      <td>1.000000</td>\n",
       "      <td>130.000000</td>\n",
       "      <td>240.00000</td>\n",
       "      <td>0.000000</td>\n",
       "      <td>1.000000</td>\n",
       "      <td>152.000000</td>\n",
       "      <td>0.000000</td>\n",
       "      <td>0.800000</td>\n",
       "      <td>1.000000</td>\n",
       "      <td>0.000000</td>\n",
       "      <td>2.000000</td>\n",
       "      <td>1.000000</td>\n",
       "    </tr>\n",
       "    <tr>\n",
       "      <th>75%</th>\n",
       "      <td>61.000000</td>\n",
       "      <td>1.000000</td>\n",
       "      <td>2.000000</td>\n",
       "      <td>140.000000</td>\n",
       "      <td>275.00000</td>\n",
       "      <td>0.000000</td>\n",
       "      <td>1.000000</td>\n",
       "      <td>166.000000</td>\n",
       "      <td>1.000000</td>\n",
       "      <td>1.800000</td>\n",
       "      <td>2.000000</td>\n",
       "      <td>1.000000</td>\n",
       "      <td>3.000000</td>\n",
       "      <td>1.000000</td>\n",
       "    </tr>\n",
       "    <tr>\n",
       "      <th>max</th>\n",
       "      <td>77.000000</td>\n",
       "      <td>1.000000</td>\n",
       "      <td>3.000000</td>\n",
       "      <td>200.000000</td>\n",
       "      <td>564.00000</td>\n",
       "      <td>1.000000</td>\n",
       "      <td>2.000000</td>\n",
       "      <td>202.000000</td>\n",
       "      <td>1.000000</td>\n",
       "      <td>6.200000</td>\n",
       "      <td>2.000000</td>\n",
       "      <td>4.000000</td>\n",
       "      <td>3.000000</td>\n",
       "      <td>1.000000</td>\n",
       "    </tr>\n",
       "  </tbody>\n",
       "</table>\n",
       "</div>"
      ],
      "text/plain": [
       "               age          sex           cp     trestbps        chol  \\\n",
       "count  1025.000000  1025.000000  1025.000000  1025.000000  1025.00000   \n",
       "mean     54.434146     0.695610     0.942439   131.611707   246.00000   \n",
       "std       9.072290     0.460373     1.029641    17.516718    51.59251   \n",
       "min      29.000000     0.000000     0.000000    94.000000   126.00000   \n",
       "25%      48.000000     0.000000     0.000000   120.000000   211.00000   \n",
       "50%      56.000000     1.000000     1.000000   130.000000   240.00000   \n",
       "75%      61.000000     1.000000     2.000000   140.000000   275.00000   \n",
       "max      77.000000     1.000000     3.000000   200.000000   564.00000   \n",
       "\n",
       "               fbs      restecg      thalach        exang      oldpeak  \\\n",
       "count  1025.000000  1025.000000  1025.000000  1025.000000  1025.000000   \n",
       "mean      0.149268     0.529756   149.114146     0.336585     1.071512   \n",
       "std       0.356527     0.527878    23.005724     0.472772     1.175053   \n",
       "min       0.000000     0.000000    71.000000     0.000000     0.000000   \n",
       "25%       0.000000     0.000000   132.000000     0.000000     0.000000   \n",
       "50%       0.000000     1.000000   152.000000     0.000000     0.800000   \n",
       "75%       0.000000     1.000000   166.000000     1.000000     1.800000   \n",
       "max       1.000000     2.000000   202.000000     1.000000     6.200000   \n",
       "\n",
       "             slope           ca         thal       target  \n",
       "count  1025.000000  1025.000000  1025.000000  1025.000000  \n",
       "mean      1.385366     0.754146     2.323902     0.513171  \n",
       "std       0.617755     1.030798     0.620660     0.500070  \n",
       "min       0.000000     0.000000     0.000000     0.000000  \n",
       "25%       1.000000     0.000000     2.000000     0.000000  \n",
       "50%       1.000000     0.000000     2.000000     1.000000  \n",
       "75%       2.000000     1.000000     3.000000     1.000000  \n",
       "max       2.000000     4.000000     3.000000     1.000000  "
      ]
     },
     "execution_count": 7,
     "metadata": {},
     "output_type": "execute_result"
    }
   ],
   "source": [
    "data.describe()"
   ]
  },
  {
   "cell_type": "code",
   "execution_count": 14,
   "id": "366c0a5d",
   "metadata": {},
   "outputs": [],
   "source": [
    "X = data.drop(columns=\"target\")\n",
    "y = data.target"
   ]
  },
  {
   "cell_type": "code",
   "execution_count": 36,
   "id": "cc3ad067",
   "metadata": {},
   "outputs": [
    {
     "name": "stdout",
     "output_type": "stream",
     "text": [
      "X_train shape:  (922, 13)\n",
      "y_train shape:  (922,)\n",
      "X_test shape:  (103, 13)\n",
      "y_test shape:  (103,)\n"
     ]
    }
   ],
   "source": [
    "from sklearn.model_selection import train_test_split\n",
    "\n",
    "X_train, X_test, y_train, y_test = train_test_split(X, y, test_size = 0.1, random_state=404)\n",
    "print(\"X_train shape: \", X_train.shape)\n",
    "print(\"y_train shape: \", y_train.shape)\n",
    "print(\"X_test shape: \", X_test.shape)\n",
    "print(\"y_test shape: \", y_test.shape)"
   ]
  },
  {
   "cell_type": "code",
   "execution_count": 37,
   "id": "916e6f11",
   "metadata": {},
   "outputs": [],
   "source": [
    "from keras import layers\n",
    "import keras"
   ]
  },
  {
   "cell_type": "code",
   "execution_count": 65,
   "id": "1a9de92b",
   "metadata": {},
   "outputs": [
    {
     "name": "stdout",
     "output_type": "stream",
     "text": [
      "Model: \"sequential_20\"\n",
      "_________________________________________________________________\n",
      " Layer (type)                Output Shape              Param #   \n",
      "=================================================================\n",
      " dense_55 (Dense)            (None, 32)                448       \n",
      "                                                                 \n",
      " dense_56 (Dense)            (None, 16)                528       \n",
      "                                                                 \n",
      " dense_57 (Dense)            (None, 1)                 17        \n",
      "                                                                 \n",
      "=================================================================\n",
      "Total params: 993\n",
      "Trainable params: 993\n",
      "Non-trainable params: 0\n",
      "_________________________________________________________________\n"
     ]
    }
   ],
   "source": [
    "model = keras.Sequential()\n",
    "\n",
    "model.add(keras.layers.Dense( 32, input_dim = X_train.shape[1], activation = 'tanh'))\n",
    "\n",
    "model.add(keras.layers.Dense( 16, activation = 'relu'))\n",
    "\n",
    "model.add(keras.layers.Dense( 1, activation = 'sigmoid'))\n",
    "\n",
    "model.summary()\n",
    "\n",
    "model.compile(loss=\"binary_crossentropy\", optimizer=tf.keras.optimizers.Adam(), metrics=['accuracy'])"
   ]
  },
  {
   "cell_type": "code",
   "execution_count": 66,
   "id": "4ea90718",
   "metadata": {
    "scrolled": true
   },
   "outputs": [
    {
     "name": "stdout",
     "output_type": "stream",
     "text": [
      "Epoch 1/30\n",
      "47/47 [==============================] - 1s 4ms/step - loss: 0.7615 - accuracy: 0.5170 - val_loss: 0.6674 - val_accuracy: 0.5946\n",
      "Epoch 2/30\n",
      "47/47 [==============================] - 0s 2ms/step - loss: 0.6606 - accuracy: 0.5984 - val_loss: 0.6641 - val_accuracy: 0.6108\n",
      "Epoch 3/30\n",
      "47/47 [==============================] - 0s 2ms/step - loss: 0.6335 - accuracy: 0.6513 - val_loss: 0.6508 - val_accuracy: 0.6378\n",
      "Epoch 4/30\n",
      "47/47 [==============================] - 0s 2ms/step - loss: 0.6273 - accuracy: 0.6540 - val_loss: 0.6653 - val_accuracy: 0.5838\n",
      "Epoch 5/30\n",
      "47/47 [==============================] - 0s 2ms/step - loss: 0.6196 - accuracy: 0.6581 - val_loss: 0.6332 - val_accuracy: 0.6378\n",
      "Epoch 6/30\n",
      "47/47 [==============================] - 0s 2ms/step - loss: 0.6179 - accuracy: 0.6418 - val_loss: 0.6425 - val_accuracy: 0.6378\n",
      "Epoch 7/30\n",
      "47/47 [==============================] - 0s 2ms/step - loss: 0.6153 - accuracy: 0.6594 - val_loss: 0.6492 - val_accuracy: 0.6378\n",
      "Epoch 8/30\n",
      "47/47 [==============================] - 0s 2ms/step - loss: 0.6080 - accuracy: 0.6744 - val_loss: 0.6369 - val_accuracy: 0.6432\n",
      "Epoch 9/30\n",
      "47/47 [==============================] - 0s 2ms/step - loss: 0.5840 - accuracy: 0.7042 - val_loss: 0.6550 - val_accuracy: 0.6270\n",
      "Epoch 10/30\n",
      "47/47 [==============================] - 0s 2ms/step - loss: 0.5927 - accuracy: 0.6621 - val_loss: 0.6465 - val_accuracy: 0.6541\n",
      "Epoch 11/30\n",
      "47/47 [==============================] - 0s 2ms/step - loss: 0.5812 - accuracy: 0.7151 - val_loss: 0.6332 - val_accuracy: 0.6378\n",
      "Epoch 12/30\n",
      "47/47 [==============================] - 0s 2ms/step - loss: 0.5739 - accuracy: 0.7123 - val_loss: 0.6281 - val_accuracy: 0.6595\n",
      "Epoch 13/30\n",
      "47/47 [==============================] - 0s 2ms/step - loss: 0.5760 - accuracy: 0.7096 - val_loss: 0.6154 - val_accuracy: 0.6757\n",
      "Epoch 14/30\n",
      "47/47 [==============================] - 0s 2ms/step - loss: 0.5763 - accuracy: 0.7151 - val_loss: 0.6269 - val_accuracy: 0.6595\n",
      "Epoch 15/30\n",
      "47/47 [==============================] - 0s 2ms/step - loss: 0.5663 - accuracy: 0.7246 - val_loss: 0.6237 - val_accuracy: 0.6541\n",
      "Epoch 16/30\n",
      "47/47 [==============================] - 0s 2ms/step - loss: 0.5672 - accuracy: 0.7164 - val_loss: 0.6416 - val_accuracy: 0.6486\n",
      "Epoch 17/30\n",
      "47/47 [==============================] - 0s 2ms/step - loss: 0.5769 - accuracy: 0.6961 - val_loss: 0.6505 - val_accuracy: 0.6541\n",
      "Epoch 18/30\n",
      "47/47 [==============================] - 0s 2ms/step - loss: 0.5714 - accuracy: 0.7259 - val_loss: 0.6124 - val_accuracy: 0.6541\n",
      "Epoch 19/30\n",
      "47/47 [==============================] - 0s 2ms/step - loss: 0.5616 - accuracy: 0.7232 - val_loss: 0.6310 - val_accuracy: 0.6486\n",
      "Epoch 20/30\n",
      "47/47 [==============================] - 0s 2ms/step - loss: 0.5634 - accuracy: 0.7083 - val_loss: 0.6175 - val_accuracy: 0.6486\n",
      "Epoch 21/30\n",
      "47/47 [==============================] - 0s 2ms/step - loss: 0.5579 - accuracy: 0.7232 - val_loss: 0.6200 - val_accuracy: 0.6432\n",
      "Epoch 22/30\n",
      "47/47 [==============================] - 0s 2ms/step - loss: 0.5608 - accuracy: 0.7178 - val_loss: 0.6128 - val_accuracy: 0.6595\n",
      "Epoch 23/30\n",
      "47/47 [==============================] - 0s 2ms/step - loss: 0.5611 - accuracy: 0.7205 - val_loss: 0.6091 - val_accuracy: 0.6649\n",
      "Epoch 24/30\n",
      "47/47 [==============================] - 0s 2ms/step - loss: 0.5565 - accuracy: 0.7286 - val_loss: 0.6365 - val_accuracy: 0.6541\n",
      "Epoch 25/30\n",
      "47/47 [==============================] - 0s 2ms/step - loss: 0.5571 - accuracy: 0.7178 - val_loss: 0.6137 - val_accuracy: 0.6541\n",
      "Epoch 26/30\n",
      "47/47 [==============================] - 0s 2ms/step - loss: 0.5560 - accuracy: 0.7232 - val_loss: 0.6136 - val_accuracy: 0.6432\n",
      "Epoch 27/30\n",
      "47/47 [==============================] - 0s 2ms/step - loss: 0.5565 - accuracy: 0.7205 - val_loss: 0.6183 - val_accuracy: 0.6595\n",
      "Epoch 28/30\n",
      "47/47 [==============================] - 0s 2ms/step - loss: 0.5536 - accuracy: 0.7246 - val_loss: 0.6158 - val_accuracy: 0.6703\n",
      "Epoch 29/30\n",
      "47/47 [==============================] - 0s 2ms/step - loss: 0.5639 - accuracy: 0.7001 - val_loss: 0.6107 - val_accuracy: 0.6324\n",
      "Epoch 30/30\n",
      "47/47 [==============================] - 0s 2ms/step - loss: 0.5624 - accuracy: 0.7083 - val_loss: 0.6004 - val_accuracy: 0.6378\n"
     ]
    }
   ],
   "source": [
    "history = model.fit(x = X_train, y = y_train, batch_size = BATCH_SIZE, epochs = 30, validation_split = 0.2)"
   ]
  },
  {
   "cell_type": "code",
   "execution_count": 76,
   "id": "99c8b7d7",
   "metadata": {},
   "outputs": [
    {
     "name": "stdout",
     "output_type": "stream",
     "text": [
      "Model: \"sequential_24\"\n",
      "_________________________________________________________________\n",
      " Layer (type)                Output Shape              Param #   \n",
      "=================================================================\n",
      " dense_70 (Dense)            (None, 64)                896       \n",
      "                                                                 \n",
      " dense_71 (Dense)            (None, 32)                2080      \n",
      "                                                                 \n",
      " dense_72 (Dense)            (None, 4)                 132       \n",
      "                                                                 \n",
      " dense_73 (Dense)            (None, 1)                 5         \n",
      "                                                                 \n",
      "=================================================================\n",
      "Total params: 3,113\n",
      "Trainable params: 3,113\n",
      "Non-trainable params: 0\n",
      "_________________________________________________________________\n"
     ]
    }
   ],
   "source": [
    "model2 = keras.Sequential()\n",
    "\n",
    "model2.add(keras.layers.Dense( 64, input_dim = X_train.shape[1], activation = 'tanh'))\n",
    "\n",
    "model2.add(keras.layers.Dense( 32, activation = 'relu'))\n",
    "\n",
    "model2.add(keras.layers.Dense( 4, activation = 'relu'))\n",
    "\n",
    "model2.add(keras.layers.Dense( 1, activation = 'sigmoid'))\n",
    "\n",
    "model2.summary()\n",
    "\n",
    "model2.compile(loss=\"binary_crossentropy\", optimizer=tf.keras.optimizers.Adam(), metrics=['accuracy'])"
   ]
  },
  {
   "cell_type": "code",
   "execution_count": 77,
   "id": "54134840",
   "metadata": {
    "scrolled": true
   },
   "outputs": [
    {
     "name": "stdout",
     "output_type": "stream",
     "text": [
      "Epoch 1/30\n",
      "47/47 [==============================] - 1s 4ms/step - loss: 0.6905 - accuracy: 0.5455 - val_loss: 0.6797 - val_accuracy: 0.6378\n",
      "Epoch 2/30\n",
      "47/47 [==============================] - 0s 2ms/step - loss: 0.6562 - accuracy: 0.6391 - val_loss: 0.6766 - val_accuracy: 0.6649\n",
      "Epoch 3/30\n",
      "47/47 [==============================] - 0s 2ms/step - loss: 0.6411 - accuracy: 0.6920 - val_loss: 0.6618 - val_accuracy: 0.6541\n",
      "Epoch 4/30\n",
      "47/47 [==============================] - 0s 2ms/step - loss: 0.6328 - accuracy: 0.6757 - val_loss: 0.6681 - val_accuracy: 0.6324\n",
      "Epoch 5/30\n",
      "47/47 [==============================] - 0s 2ms/step - loss: 0.6180 - accuracy: 0.7110 - val_loss: 0.6801 - val_accuracy: 0.6432\n",
      "Epoch 6/30\n",
      "47/47 [==============================] - 0s 2ms/step - loss: 0.6145 - accuracy: 0.7151 - val_loss: 0.6613 - val_accuracy: 0.6432\n",
      "Epoch 7/30\n",
      "47/47 [==============================] - 0s 2ms/step - loss: 0.6060 - accuracy: 0.7218 - val_loss: 0.6712 - val_accuracy: 0.6432\n",
      "Epoch 8/30\n",
      "47/47 [==============================] - 0s 2ms/step - loss: 0.5981 - accuracy: 0.7205 - val_loss: 0.6466 - val_accuracy: 0.6811\n",
      "Epoch 9/30\n",
      "47/47 [==============================] - 0s 2ms/step - loss: 0.5911 - accuracy: 0.7218 - val_loss: 0.6479 - val_accuracy: 0.6703\n",
      "Epoch 10/30\n",
      "47/47 [==============================] - 0s 2ms/step - loss: 0.5854 - accuracy: 0.7218 - val_loss: 0.6551 - val_accuracy: 0.6757\n",
      "Epoch 11/30\n",
      "47/47 [==============================] - 0s 2ms/step - loss: 0.5853 - accuracy: 0.7327 - val_loss: 0.6292 - val_accuracy: 0.6865\n",
      "Epoch 12/30\n",
      "47/47 [==============================] - 0s 2ms/step - loss: 0.5891 - accuracy: 0.7246 - val_loss: 0.6759 - val_accuracy: 0.6649\n",
      "Epoch 13/30\n",
      "47/47 [==============================] - 0s 2ms/step - loss: 0.5968 - accuracy: 0.6825 - val_loss: 0.6428 - val_accuracy: 0.6486\n",
      "Epoch 14/30\n",
      "47/47 [==============================] - 0s 2ms/step - loss: 0.5748 - accuracy: 0.7408 - val_loss: 0.6392 - val_accuracy: 0.6757\n",
      "Epoch 15/30\n",
      "47/47 [==============================] - 0s 2ms/step - loss: 0.5741 - accuracy: 0.7313 - val_loss: 0.6436 - val_accuracy: 0.6703\n",
      "Epoch 16/30\n",
      "47/47 [==============================] - 0s 2ms/step - loss: 0.5724 - accuracy: 0.7232 - val_loss: 0.6319 - val_accuracy: 0.7189\n",
      "Epoch 17/30\n",
      "47/47 [==============================] - 0s 2ms/step - loss: 0.5789 - accuracy: 0.7232 - val_loss: 0.6260 - val_accuracy: 0.6865\n",
      "Epoch 18/30\n",
      "47/47 [==============================] - 0s 2ms/step - loss: 0.5678 - accuracy: 0.7313 - val_loss: 0.6559 - val_accuracy: 0.6973\n",
      "Epoch 19/30\n",
      "47/47 [==============================] - 0s 2ms/step - loss: 0.5640 - accuracy: 0.7354 - val_loss: 0.6319 - val_accuracy: 0.6973\n",
      "Epoch 20/30\n",
      "47/47 [==============================] - 0s 2ms/step - loss: 0.5698 - accuracy: 0.7178 - val_loss: 0.6247 - val_accuracy: 0.7081\n",
      "Epoch 21/30\n",
      "47/47 [==============================] - 0s 2ms/step - loss: 0.5402 - accuracy: 0.7571 - val_loss: 0.6639 - val_accuracy: 0.6865\n",
      "Epoch 22/30\n",
      "47/47 [==============================] - 0s 2ms/step - loss: 0.5392 - accuracy: 0.7436 - val_loss: 0.6505 - val_accuracy: 0.6973\n",
      "Epoch 23/30\n",
      "47/47 [==============================] - 0s 2ms/step - loss: 0.5231 - accuracy: 0.7693 - val_loss: 0.6235 - val_accuracy: 0.7027\n",
      "Epoch 24/30\n",
      "47/47 [==============================] - 0s 2ms/step - loss: 0.5125 - accuracy: 0.7748 - val_loss: 0.6201 - val_accuracy: 0.7081\n",
      "Epoch 25/30\n",
      "47/47 [==============================] - 0s 2ms/step - loss: 0.5098 - accuracy: 0.7788 - val_loss: 0.6631 - val_accuracy: 0.6811\n",
      "Epoch 26/30\n",
      "47/47 [==============================] - 0s 2ms/step - loss: 0.5072 - accuracy: 0.7775 - val_loss: 0.5830 - val_accuracy: 0.7405\n",
      "Epoch 27/30\n",
      "47/47 [==============================] - 0s 2ms/step - loss: 0.5017 - accuracy: 0.7734 - val_loss: 0.5965 - val_accuracy: 0.7297\n",
      "Epoch 28/30\n",
      "47/47 [==============================] - 0s 2ms/step - loss: 0.5032 - accuracy: 0.7775 - val_loss: 0.5975 - val_accuracy: 0.7459\n",
      "Epoch 29/30\n",
      "47/47 [==============================] - 0s 2ms/step - loss: 0.4931 - accuracy: 0.7775 - val_loss: 0.5978 - val_accuracy: 0.7135\n",
      "Epoch 30/30\n",
      "47/47 [==============================] - 0s 2ms/step - loss: 0.4897 - accuracy: 0.7924 - val_loss: 0.5785 - val_accuracy: 0.7351\n"
     ]
    }
   ],
   "source": [
    "history2 = model2.fit(x = X_train, y = y_train, batch_size = BATCH_SIZE, epochs = 30, validation_split = 0.2)"
   ]
  },
  {
   "cell_type": "code",
   "execution_count": 78,
   "id": "34a50abf",
   "metadata": {},
   "outputs": [
    {
     "data": {
      "image/png": "[encoded data removed]",
      "text/plain": [
       "<Figure size 432x288 with 1 Axes>"
      ]
     },
     "metadata": {},
     "output_type": "display_data"
    },
    {
     "data": {
      "image/png": "[encoded data removed]",
      "text/plain": [
       "<Figure size 432x288 with 1 Axes>"
      ]
     },
     "metadata": {},
     "output_type": "display_data"
    }
   ],
   "source": [
    "import matplotlib.pyplot as plt\n",
    "plt.style.use('ggplot')\n",
    "plt.plot(history.history['accuracy'], label=\"train\")\n",
    "plt.plot(history.history['val_accuracy'], label=\"validation\")\n",
    "plt.xlabel(\"Epochs\")\n",
    "plt.legend(loc=\"lower right\")\n",
    "plt.title(\"Accuracy Model 1\")\n",
    "plt.show()\n",
    "\n",
    "plt.style.use('ggplot')\n",
    "plt.plot(history2.history['accuracy'], label=\"train\")\n",
    "plt.plot(history2.history['val_accuracy'], label=\"validation\")\n",
    "plt.xlabel(\"Epochs\")\n",
    "plt.legend(loc=\"lower right\")\n",
    "plt.title(\"Accuracy Model 2\")\n",
    "plt.show()"
   ]
  },
  {
   "cell_type": "code",
   "execution_count": 79,
   "id": "63f17f52",
   "metadata": {},
   "outputs": [
    {
     "name": "stdout",
     "output_type": "stream",
     "text": [
      "4/4 [==============================] - 0s 1ms/step - loss: 0.5858 - accuracy: 0.6990\n"
     ]
    },
    {
     "data": {
      "text/plain": [
       "[0.585838794708252, 0.6990291476249695]"
      ]
     },
     "execution_count": 79,
     "metadata": {},
     "output_type": "execute_result"
    }
   ],
   "source": [
    "model.evaluate(X_test, y_test)"
   ]
  },
  {
   "cell_type": "code",
   "execution_count": 80,
   "id": "2588304d",
   "metadata": {},
   "outputs": [
    {
     "name": "stdout",
     "output_type": "stream",
     "text": [
      "4/4 [==============================] - 0s 1ms/step - loss: 0.4960 - accuracy: 0.8058\n"
     ]
    },
    {
     "data": {
      "text/plain": [
       "[0.49600011110305786, 0.8058252334594727]"
      ]
     },
     "execution_count": 80,
     "metadata": {},
     "output_type": "execute_result"
    }
   ],
   "source": [
    "model2.evaluate(X_test, y_test)"
   ]
  },
  {
   "cell_type": "code",
   "execution_count": 89,
   "id": "3a0ad6cd",
   "metadata": {},
   "outputs": [
    {
     "data": {
      "text/html": [
       "<div>\n",
       "<style scoped>\n",
       "    .dataframe tbody tr th:only-of-type {\n",
       "        vertical-align: middle;\n",
       "    }\n",
       "\n",
       "    .dataframe tbody tr th {\n",
       "        vertical-align: top;\n",
       "    }\n",
       "\n",
       "    .dataframe thead th {\n",
       "        text-align: right;\n",
       "    }\n",
       "</style>\n",
       "<table border=\"1\" class=\"dataframe\">\n",
       "  <thead>\n",
       "    <tr style=\"text-align: right;\">\n",
       "      <th></th>\n",
       "      <th>Age</th>\n",
       "      <th>Sex</th>\n",
       "      <th>BP</th>\n",
       "      <th>Cholesterol</th>\n",
       "      <th>Na_to_K</th>\n",
       "      <th>Drug</th>\n",
       "    </tr>\n",
       "  </thead>\n",
       "  <tbody>\n",
       "    <tr>\n",
       "      <th>0</th>\n",
       "      <td>23</td>\n",
       "      <td>F</td>\n",
       "      <td>HIGH</td>\n",
       "      <td>HIGH</td>\n",
       "      <td>25.355</td>\n",
       "      <td>drugY</td>\n",
       "    </tr>\n",
       "    <tr>\n",
       "      <th>1</th>\n",
       "      <td>47</td>\n",
       "      <td>M</td>\n",
       "      <td>LOW</td>\n",
       "      <td>HIGH</td>\n",
       "      <td>13.093</td>\n",
       "      <td>drugC</td>\n",
       "    </tr>\n",
       "    <tr>\n",
       "      <th>2</th>\n",
       "      <td>47</td>\n",
       "      <td>M</td>\n",
       "      <td>LOW</td>\n",
       "      <td>HIGH</td>\n",
       "      <td>10.114</td>\n",
       "      <td>drugC</td>\n",
       "    </tr>\n",
       "    <tr>\n",
       "      <th>3</th>\n",
       "      <td>28</td>\n",
       "      <td>F</td>\n",
       "      <td>NORMAL</td>\n",
       "      <td>HIGH</td>\n",
       "      <td>7.798</td>\n",
       "      <td>drugX</td>\n",
       "    </tr>\n",
       "    <tr>\n",
       "      <th>4</th>\n",
       "      <td>61</td>\n",
       "      <td>F</td>\n",
       "      <td>LOW</td>\n",
       "      <td>HIGH</td>\n",
       "      <td>18.043</td>\n",
       "      <td>drugY</td>\n",
       "    </tr>\n",
       "  </tbody>\n",
       "</table>\n",
       "</div>"
      ],
      "text/plain": [
       "   Age Sex      BP Cholesterol  Na_to_K   Drug\n",
       "0   23   F    HIGH        HIGH   25.355  drugY\n",
       "1   47   M     LOW        HIGH   13.093  drugC\n",
       "2   47   M     LOW        HIGH   10.114  drugC\n",
       "3   28   F  NORMAL        HIGH    7.798  drugX\n",
       "4   61   F     LOW        HIGH   18.043  drugY"
      ]
     },
     "execution_count": 89,
     "metadata": {},
     "output_type": "execute_result"
    }
   ],
   "source": [
    "data = pd.read_csv(\"drug200.csv\")\n",
    "data.head()"
   ]
  },
  {
   "cell_type": "code",
   "execution_count": 125,
   "id": "ce5c2e87",
   "metadata": {},
   "outputs": [
    {
     "data": {
      "text/plain": [
       "HIGH      103\n",
       "NORMAL     97\n",
       "Name: Cholesterol, dtype: int64"
      ]
     },
     "execution_count": 125,
     "metadata": {},
     "output_type": "execute_result"
    }
   ],
   "source": [
    "data.Cholesterol.value_counts()"
   ]
  },
  {
   "cell_type": "code",
   "execution_count": 116,
   "id": "2eeb200d",
   "metadata": {},
   "outputs": [],
   "source": [
    "data.Drug = data.Drug.replace({\"drugY\": 0.0, \"drugX\": 1.0, \"drugA\": 2.0, \"drugB\": 3.0, \"drugC\": 4.0})"
   ]
  },
  {
   "cell_type": "code",
   "execution_count": 126,
   "id": "209262a4",
   "metadata": {},
   "outputs": [],
   "source": [
    "data.Sex = data.Sex.replace({\"F\": 0, \"M\": 1})\n",
    "data.BP = data.BP.replace({\"HIGH\": 0, \"LOW\": 1, \"NORMAL\": 2})\n",
    "data.Cholesterol = data.Cholesterol.replace({\"HIGH\": 0, \"LOW\": 1, \"NORMAL\": 2})"
   ]
  },
  {
   "cell_type": "code",
   "execution_count": 127,
   "id": "9be89fc5",
   "metadata": {},
   "outputs": [
    {
     "name": "stdout",
     "output_type": "stream",
     "text": [
      "X_train shape:  (180, 5)\n",
      "y_train shape:  (180,)\n",
      "X_test shape:  (20, 5)\n",
      "y_test shape:  (20,)\n"
     ]
    }
   ],
   "source": [
    "X = data.drop(columns=\"Drug\")\n",
    "y = data.Drug\n",
    "\n",
    "X_train, X_test, y_train, y_test = train_test_split(X, y, test_size = 0.1, random_state=404)\n",
    "print(\"X_train shape: \", X_train.shape)\n",
    "print(\"y_train shape: \", y_train.shape)\n",
    "print(\"X_test shape: \", X_test.shape)\n",
    "print(\"y_test shape: \", y_test.shape)"
   ]
  },
  {
   "cell_type": "code",
   "execution_count": null,
   "id": "b8169f08",
   "metadata": {},
   "outputs": [],
   "source": []
  },
  {
   "cell_type": "code",
   "execution_count": 128,
   "id": "16d13f97",
   "metadata": {
    "scrolled": true
   },
   "outputs": [
    {
     "name": "stdout",
     "output_type": "stream",
     "text": [
      "Model: \"sequential_35\"\n",
      "_________________________________________________________________\n",
      " Layer (type)                Output Shape              Param #   \n",
      "=================================================================\n",
      " dense_105 (Dense)           (None, 64)                384       \n",
      "                                                                 \n",
      " dense_106 (Dense)           (None, 32)                2080      \n",
      "                                                                 \n",
      " dense_107 (Dense)           (None, 5)                 165       \n",
      "                                                                 \n",
      "=================================================================\n",
      "Total params: 2,629\n",
      "Trainable params: 2,629\n",
      "Non-trainable params: 0\n",
      "_________________________________________________________________\n",
      "Epoch 1/30\n",
      "9/9 [==============================] - 1s 19ms/step - loss: 1.4843 - accuracy: 0.3472 - val_loss: 1.3230 - val_accuracy: 0.4444\n",
      "Epoch 2/30\n",
      "9/9 [==============================] - 0s 4ms/step - loss: 1.2767 - accuracy: 0.4514 - val_loss: 1.2358 - val_accuracy: 0.4722\n",
      "Epoch 3/30\n",
      "9/9 [==============================] - 0s 4ms/step - loss: 1.1814 - accuracy: 0.5903 - val_loss: 1.2018 - val_accuracy: 0.5278\n",
      "Epoch 4/30\n",
      "9/9 [==============================] - 0s 4ms/step - loss: 1.1226 - accuracy: 0.6528 - val_loss: 1.1794 - val_accuracy: 0.5278\n",
      "Epoch 5/30\n",
      "9/9 [==============================] - 0s 4ms/step - loss: 1.0851 - accuracy: 0.6389 - val_loss: 1.1494 - val_accuracy: 0.5278\n",
      "Epoch 6/30\n",
      "9/9 [==============================] - 0s 4ms/step - loss: 1.0557 - accuracy: 0.6528 - val_loss: 1.1288 - val_accuracy: 0.5278\n",
      "Epoch 7/30\n",
      "9/9 [==============================] - 0s 4ms/step - loss: 1.0322 - accuracy: 0.6597 - val_loss: 1.1044 - val_accuracy: 0.5278\n",
      "Epoch 8/30\n",
      "9/9 [==============================] - 0s 4ms/step - loss: 1.0097 - accuracy: 0.6597 - val_loss: 1.0848 - val_accuracy: 0.5278\n",
      "Epoch 9/30\n",
      "9/9 [==============================] - 0s 4ms/step - loss: 0.9892 - accuracy: 0.6667 - val_loss: 1.0667 - val_accuracy: 0.5278\n",
      "Epoch 10/30\n",
      "9/9 [==============================] - 0s 4ms/step - loss: 0.9631 - accuracy: 0.6597 - val_loss: 1.0452 - val_accuracy: 0.5556\n",
      "Epoch 11/30\n",
      "9/9 [==============================] - 0s 4ms/step - loss: 0.9374 - accuracy: 0.6736 - val_loss: 1.0263 - val_accuracy: 0.5556\n",
      "Epoch 12/30\n",
      "9/9 [==============================] - 0s 5ms/step - loss: 0.9153 - accuracy: 0.6667 - val_loss: 1.0111 - val_accuracy: 0.5278\n",
      "Epoch 13/30\n",
      "9/9 [==============================] - 0s 4ms/step - loss: 0.8913 - accuracy: 0.6944 - val_loss: 0.9943 - val_accuracy: 0.5556\n",
      "Epoch 14/30\n",
      "9/9 [==============================] - 0s 5ms/step - loss: 0.8699 - accuracy: 0.6806 - val_loss: 0.9779 - val_accuracy: 0.5556\n",
      "Epoch 15/30\n",
      "9/9 [==============================] - 0s 4ms/step - loss: 0.8410 - accuracy: 0.6944 - val_loss: 0.9547 - val_accuracy: 0.5833\n",
      "Epoch 16/30\n",
      "9/9 [==============================] - 0s 5ms/step - loss: 0.8161 - accuracy: 0.7153 - val_loss: 0.9319 - val_accuracy: 0.6111\n",
      "Epoch 17/30\n",
      "9/9 [==============================] - 0s 4ms/step - loss: 0.7929 - accuracy: 0.7222 - val_loss: 0.9147 - val_accuracy: 0.6111\n",
      "Epoch 18/30\n",
      "9/9 [==============================] - 0s 4ms/step - loss: 0.7665 - accuracy: 0.7361 - val_loss: 0.8869 - val_accuracy: 0.6389\n",
      "Epoch 19/30\n",
      "9/9 [==============================] - 0s 4ms/step - loss: 0.7404 - accuracy: 0.7361 - val_loss: 0.8726 - val_accuracy: 0.6389\n",
      "Epoch 20/30\n",
      "9/9 [==============================] - 0s 4ms/step - loss: 0.7234 - accuracy: 0.7639 - val_loss: 0.8440 - val_accuracy: 0.6667\n",
      "Epoch 21/30\n",
      "9/9 [==============================] - 0s 4ms/step - loss: 0.6901 - accuracy: 0.7569 - val_loss: 0.8227 - val_accuracy: 0.6389\n",
      "Epoch 22/30\n",
      "9/9 [==============================] - 0s 4ms/step - loss: 0.6766 - accuracy: 0.7292 - val_loss: 0.7998 - val_accuracy: 0.6944\n",
      "Epoch 23/30\n",
      "9/9 [==============================] - 0s 4ms/step - loss: 0.6504 - accuracy: 0.7639 - val_loss: 0.7837 - val_accuracy: 0.7222\n",
      "Epoch 24/30\n",
      "9/9 [==============================] - 0s 4ms/step - loss: 0.6381 - accuracy: 0.7847 - val_loss: 0.7622 - val_accuracy: 0.7222\n",
      "Epoch 25/30\n",
      "9/9 [==============================] - 0s 4ms/step - loss: 0.6060 - accuracy: 0.7500 - val_loss: 0.7537 - val_accuracy: 0.7500\n",
      "Epoch 26/30\n",
      "9/9 [==============================] - 0s 5ms/step - loss: 0.6000 - accuracy: 0.7708 - val_loss: 0.7502 - val_accuracy: 0.6944\n",
      "Epoch 27/30\n",
      "9/9 [==============================] - 0s 4ms/step - loss: 0.5719 - accuracy: 0.7986 - val_loss: 0.7111 - val_accuracy: 0.6944\n",
      "Epoch 28/30\n",
      "9/9 [==============================] - 0s 4ms/step - loss: 0.5626 - accuracy: 0.7847 - val_loss: 0.7023 - val_accuracy: 0.7222\n",
      "Epoch 29/30\n",
      "9/9 [==============================] - 0s 4ms/step - loss: 0.5450 - accuracy: 0.8056 - val_loss: 0.7059 - val_accuracy: 0.7222\n",
      "Epoch 30/30\n",
      "9/9 [==============================] - 0s 4ms/step - loss: 0.5310 - accuracy: 0.8194 - val_loss: 0.6781 - val_accuracy: 0.7778\n"
     ]
    }
   ],
   "source": [
    "model3 = keras.Sequential()\n",
    "\n",
    "model3.add(keras.layers.Dense( 64, input_dim = X_train.shape[1], activation = 'tanh'))\n",
    "\n",
    "model3.add(keras.layers.Dense( 32, activation = 'relu'))\n",
    "\n",
    "model3.add(keras.layers.Dense( 5, activation = 'softmax'))\n",
    "\n",
    "model3.summary()\n",
    "\n",
    "model3.compile(loss=keras.losses.sparse_categorical_crossentropy, optimizer=tf.keras.optimizers.Adam(), metrics=['accuracy'])\n",
    "\n",
    "history3 = model3.fit(x = X_train, y = y_train, batch_size = BATCH_SIZE, epochs = 30, validation_split = 0.2)"
   ]
  },
  {
   "cell_type": "code",
   "execution_count": 130,
   "id": "c68f5823",
   "metadata": {},
   "outputs": [
    {
     "data": {
      "image/png": "[encoded data removed]",
      "text/plain": [
       "<Figure size 432x288 with 1 Axes>"
      ]
     },
     "metadata": {},
     "output_type": "display_data"
    }
   ],
   "source": [
    "plt.style.use('ggplot')\n",
    "plt.plot(history3.history['accuracy'], label=\"train\")\n",
    "plt.plot(history3.history['val_accuracy'], label=\"validation\")\n",
    "plt.xlabel(\"Epochs\")\n",
    "plt.legend(loc=\"lower right\")\n",
    "plt.title(\"Accuracy Model 3\")\n",
    "plt.show()"
   ]
  },
  {
   "cell_type": "code",
   "execution_count": 131,
   "id": "9d889794",
   "metadata": {},
   "outputs": [
    {
     "name": "stdout",
     "output_type": "stream",
     "text": [
      "1/1 [==============================] - 0s 29ms/step - loss: 0.6124 - accuracy: 0.8000\n"
     ]
    },
    {
     "data": {
      "text/plain": [
       "[0.612387478351593, 0.800000011920929]"
      ]
     },
     "execution_count": 131,
     "metadata": {},
     "output_type": "execute_result"
    }
   ],
   "source": [
    "model3.evaluate(X_test, y_test)"
   ]
  },
  {
   "cell_type": "code",
   "execution_count": null,
   "id": "df4e6b4d",
   "metadata": {},
   "outputs": [],
   "source": []
  }
 ],
 "metadata": {
  "kernelspec": {
   "display_name": "Python 3",
   "language": "python",
   "name": "python3"
  },
  "language_info": {
   "codemirror_mode": {
    "name": "ipython",
    "version": 3
   },
   "file_extension": ".py",
   "mimetype": "text/x-python",
   "name": "python",
   "nbconvert_exporter": "python",
   "pygments_lexer": "ipython3",
   "version": "3.8.10"
  }
 },
 "nbformat": 4,
 "nbformat_minor": 5
}
